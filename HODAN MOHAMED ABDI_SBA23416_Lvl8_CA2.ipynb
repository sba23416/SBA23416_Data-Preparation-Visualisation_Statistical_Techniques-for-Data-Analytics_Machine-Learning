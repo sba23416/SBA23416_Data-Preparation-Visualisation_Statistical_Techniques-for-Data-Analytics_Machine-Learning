{
 "cells": [
  {
   "cell_type": "markdown",
   "id": "530582c3",
   "metadata": {},
   "source": [
    "# HODAN MOHAMED ABDI_SBA23416_Lvl8_CA2"
   ]
  },
  {
   "cell_type": "markdown",
   "id": "af8384e4",
   "metadata": {},
   "source": [
    "**Introduction**"
   ]
  },
  {
   "cell_type": "markdown",
   "id": "7593722c",
   "metadata": {},
   "source": [
    "A company has collected data for their employees and is planning to use this data to identify patterns and trends that can help to improve employees satisfaction and productivity. The dataset contains information about their employees, including their age, gender, education level, job role, hourly pay rate, work experience, job satisfaction, and more. The purpose is to use your knowledge in decision making for the optimisation of company operations and welfare of the employees."
   ]
  },
  {
   "cell_type": "markdown",
   "id": "36f0988c",
   "metadata": {},
   "source": [
    "**Task: Data Preparation - Statistical Techniques - Machine Learning Using Employee_Attrition Dataset**"
   ]
  },
  {
   "cell_type": "markdown",
   "id": "30693d5f",
   "metadata": {},
   "source": [
    "As a data analyst, your task is to prepare and analyse the data set using appropriate data preparation, statistical techniques and ML models. Your analysis should aim to identify any relationships or trends in the data that can be used to improve employee satisfaction and productivity. Evaluate the influence of data preparation for the use of Statistical Techniques and ML modelling outcomes. Communicate the results in a form of a report in the Jupyter notebook markdown of the analysis to stakeholders using clear and concise explanations, visualisations, and appropriate statistical terminology. All work should be stored on github and perform commits."
   ]
  },
  {
   "cell_type": "code",
   "execution_count": null,
   "id": "e8d5b1b6",
   "metadata": {},
   "outputs": [],
   "source": []
  },
  {
   "cell_type": "code",
   "execution_count": null,
   "id": "6e1b8bad",
   "metadata": {},
   "outputs": [],
   "source": []
  },
  {
   "cell_type": "code",
   "execution_count": null,
   "id": "fb30944c",
   "metadata": {},
   "outputs": [],
   "source": []
  }
 ],
 "metadata": {
  "kernelspec": {
   "display_name": "Python 3 (ipykernel)",
   "language": "python",
   "name": "python3"
  },
  "language_info": {
   "codemirror_mode": {
    "name": "ipython",
    "version": 3
   },
   "file_extension": ".py",
   "mimetype": "text/x-python",
   "name": "python",
   "nbconvert_exporter": "python",
   "pygments_lexer": "ipython3",
   "version": "3.11.4"
  }
 },
 "nbformat": 4,
 "nbformat_minor": 5
}
